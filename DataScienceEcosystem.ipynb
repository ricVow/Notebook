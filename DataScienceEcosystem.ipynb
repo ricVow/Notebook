{
 "cells": [
  {
   "cell_type": "markdown",
   "id": "b21e7713-4627-48bd-8df1-92854c9b0908",
   "metadata": {
    "tags": []
   },
   "source": [
    "# Data Science Tools and Ecosystem"
   ]
  },
  {
   "cell_type": "markdown",
   "id": "e6aea242-36c8-422a-8516-7c5f3de5fe7f",
   "metadata": {},
   "source": [
    "In this notebook, data science tools and ecosystems are summarized."
   ]
  },
  {
   "cell_type": "markdown",
   "id": "cac6227a-87cd-401d-8b96-ebd963739bf6",
   "metadata": {},
   "source": [
    "Objectives:\n",
    "- list of popular languages used in data science\n",
    "- list of commonly used libraries in data science\n",
    "- list of open source tools used in data science"
   ]
  },
  {
   "cell_type": "markdown",
   "id": "fee21746-0001-4f55-bc48-61aefe76c64e",
   "metadata": {},
   "source": [
    "Some commonly used languages in data science are:\n",
    "1. Python\n",
    "2. R\n",
    "3. SQL"
   ]
  },
  {
   "cell_type": "markdown",
   "id": "48c689ca-0849-43c4-969c-a5fb00888ca4",
   "metadata": {},
   "source": [
    "Some of the commonly used libraries in data science include:\n",
    "1. Pandas\n",
    "2. TensorFlow\n",
    "3. Keras "
   ]
  },
  {
   "cell_type": "markdown",
   "id": "54fa6b86-4d3c-45c2-9855-12b26365cf10",
   "metadata": {},
   "source": [
    "|Data Science Tools|\n",
    "|------------------|\n",
    "|RStudio|\n",
    "|Apache Spark|\n",
    "|TensorFlow|"
   ]
  },
  {
   "cell_type": "markdown",
   "id": "9ba174de-c89f-4396-ae88-4de4dfd3a952",
   "metadata": {},
   "source": [
    "### Below are a few examples of evaluating arithmetic expressions in python"
   ]
  },
  {
   "cell_type": "code",
   "execution_count": 2,
   "id": "b7d2a927-1b86-4115-ab51-a810159233b8",
   "metadata": {
    "tags": []
   },
   "outputs": [
    {
     "data": {
      "text/plain": [
       "17"
      ]
     },
     "execution_count": 2,
     "metadata": {},
     "output_type": "execute_result"
    }
   ],
   "source": [
    "# this is a simple arethimatic expression to multiply then add integers \n",
    "(3*4)+5"
   ]
  },
  {
   "cell_type": "code",
   "execution_count": 3,
   "id": "57c7aa0d-dab6-4a98-a47b-0a28a39905a8",
   "metadata": {
    "tags": []
   },
   "outputs": [
    {
     "data": {
      "text/plain": [
       "3.3333333333333335"
      ]
     },
     "execution_count": 3,
     "metadata": {},
     "output_type": "execute_result"
    }
   ],
   "source": [
    "# This will convert 200 minutes in hours by dividing by 60\n",
    "200/60"
   ]
  },
  {
   "cell_type": "markdown",
   "id": "4712d21f-1969-40f4-bddb-d0953b1f6541",
   "metadata": {},
   "source": [
    "## Author\n",
    "Eric "
   ]
  },
  {
   "cell_type": "code",
   "execution_count": null,
   "id": "4ba5c666-3034-47d0-94d5-5534f0258be2",
   "metadata": {},
   "outputs": [],
   "source": []
  }
 ],
 "metadata": {
  "kernelspec": {
   "display_name": "Python",
   "language": "python",
   "name": "conda-env-python-py"
  },
  "language_info": {
   "codemirror_mode": {
    "name": "ipython",
    "version": 3
   },
   "file_extension": ".py",
   "mimetype": "text/x-python",
   "name": "python",
   "nbconvert_exporter": "python",
   "pygments_lexer": "ipython3",
   "version": "3.7.12"
  }
 },
 "nbformat": 4,
 "nbformat_minor": 5
}
